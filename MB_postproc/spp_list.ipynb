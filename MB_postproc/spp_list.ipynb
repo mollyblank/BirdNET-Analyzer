{
 "cells": [
  {
   "cell_type": "code",
   "execution_count": 1,
   "metadata": {},
   "outputs": [
    {
     "name": "stdout",
     "output_type": "stream",
     "text": [
      "   Selection           View  Channel  \\\n",
      "0          1  Spectrogram 1        1   \n",
      "1          2  Spectrogram 1        1   \n",
      "2          3  Spectrogram 1        1   \n",
      "3          4  Spectrogram 1        1   \n",
      "4          5  Spectrogram 1        1   \n",
      "\n",
      "                                         Begin Path  File Duration (s)  \\\n",
      "0  example/PZ_3_2023-11-25/PZ_3_20231125_062903.wav               3597   \n",
      "1  example/PZ_3_2023-11-25/PZ_3_20231125_062903.wav               3597   \n",
      "2  example/PZ_3_2023-11-25/PZ_3_20231125_062903.wav               3597   \n",
      "3  example/PZ_3_2023-11-25/PZ_3_20231125_062903.wav               3597   \n",
      "4  example/PZ_3_2023-11-25/PZ_3_20231125_062903.wav               3597   \n",
      "\n",
      "   Begin Time (s)  End Time (s)  Low Freq (Hz)  High Freq (Hz) Species Code  \\\n",
      "0             0.0           3.0              0           15000      pluant1   \n",
      "1             3.0           6.0              0           15000      pluant1   \n",
      "2             6.0           9.0              0           15000      pluant1   \n",
      "3             9.0          12.0              0           15000      pluant1   \n",
      "4             9.0          12.0              0           15000      plapri1   \n",
      "\n",
      "         Common Name  Confidence  \n",
      "0  Plumbeous Antbird      0.2522  \n",
      "1  Plumbeous Antbird      0.3895  \n",
      "2  Plumbeous Antbird      0.2551  \n",
      "3  Plumbeous Antbird      0.5110  \n",
      "4       Plain Prinia      0.4175  \n"
     ]
    }
   ],
   "source": [
    "## This file takes the species list provided by Lucy and filters results from overall species model \n",
    "import os\n",
    "import sys\n",
    "import pandas as pd \n",
    "import numpy as np\n",
    "\n",
    "\n",
    "# Load the amazonas species list \n",
    "#local_spp = pd.read_csv('./amazonas_bird_spp.csv')\n",
    "\n",
    "# compile results files \n",
    "results_dir = 'results'\n",
    "results_files = os.listdir(results_dir)\n",
    "# convert all results files from txt to dataframes \n",
    "results_dfs = []\n",
    "for file in results_files:\n",
    "    if file.endswith('.txt'):\n",
    "        results_dfs.append(pd.read_csv(results_dir + '/' + file, sep = '\\t'))\n",
    "# concatenate all results dataframes\n",
    "results = pd.concat(results_dfs)\n",
    "\n",
    "print(results.head())"
   ]
  },
  {
   "cell_type": "code",
   "execution_count": 2,
   "metadata": {},
   "outputs": [],
   "source": [
    "# filter for Confidence > .8 and save as a new dataframe\n",
    "results_filtered = results[results['Confidence'] > .8]\n",
    "\n",
    "# create a dataframe that includes the Common Name and counts from the filtered results \n",
    "results_filtered_counts = results_filtered['Common Name'].value_counts().reset_index()\n",
    "results_filtered_counts.columns = ['Common Name', 'Count']\n"
   ]
  },
  {
   "cell_type": "code",
   "execution_count": 7,
   "metadata": {},
   "outputs": [
    {
     "name": "stdout",
     "output_type": "stream",
     "text": [
      "6\n"
     ]
    }
   ],
   "source": [
    "# load the list of species from the amazonas bird list\n",
    "local_spp = pd.read_csv('./amazonas_bird_spp.csv')\n",
    "local_spp.columns = ['Scientific Name', 'Common Name']\n",
    "\n",
    "# merge the filtered results with the local species list\n",
    "amazonas_high_predicts = pd.merge(local_spp, results_filtered_counts, on = 'Common Name', how = 'left')\n",
    "# remove nans\n",
    "amazonas_high_predicts = merged.fillna(0)\n",
    "\n",
    "# print the number of species with nonzero counts\n",
    "#print(len(amazonas_high_predicts[amazonas_high_predicts['Count'] > 0]))\n",
    "\n",
    "# print the number of species with counts over 50 \n",
    "print(len(amazonas_high_predicts[amazonas_high_predicts['Count'] > 50]))\n",
    "\n",
    "#export the results\n",
    "amazonas_high_predicts.to_csv('amazonas_high_predicts.csv', index = False)\n"
   ]
  }
 ],
 "metadata": {
  "kernelspec": {
   "display_name": "venv-birdnet",
   "language": "python",
   "name": "python3"
  },
  "language_info": {
   "codemirror_mode": {
    "name": "ipython",
    "version": 3
   },
   "file_extension": ".py",
   "mimetype": "text/x-python",
   "name": "python",
   "nbconvert_exporter": "python",
   "pygments_lexer": "ipython3",
   "version": "3.9.6"
  }
 },
 "nbformat": 4,
 "nbformat_minor": 2
}
